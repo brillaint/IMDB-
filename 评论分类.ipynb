{
 "cells": [
  {
   "cell_type": "code",
   "execution_count": 1,
   "metadata": {},
   "outputs": [],
   "source": [
    "#我们选择doc2vec里面的dm和dbow结合的方式"
   ]
  },
  {
   "cell_type": "code",
   "execution_count": 2,
   "metadata": {},
   "outputs": [],
   "source": [
    "# 首先导包\n",
    "import pandas as pd\n",
    "import numpy as np\n",
    "from gensim.models.doc2vec import Doc2Vec, TaggedDocument\n",
    "from sklearn.metrics import roc_curve, auc\n",
    "from sklearn.model_selection import train_test_split\n",
    "from sklearn.ensemble import RandomForestClassifier\n",
    "import matplotlib.pyplot as plt"
   ]
  },
  {
   "cell_type": "code",
   "execution_count": 3,
   "metadata": {},
   "outputs": [],
   "source": [
    "# 对训练测试及预测数据进行清理的def\n",
    "def data_clean(data):\n",
    "    replace_list = ['\"', \"'\", '(', ')', '{', '}', '[', ']', ';', ':', ',', '\\n', '<br />']\n",
    "    for i in replace_list:\n",
    "        data = [x.lower().replace(i, '') for x in data]\n",
    "#     将标点视为一个单词\n",
    "    comma = ['.', '!', '?']\n",
    "    for i in comma:\n",
    "        data = [x.replace(i, ' %s ' % i) for x in data]\n",
    "    data = [x.split() for x in data]\n",
    "    return data"
   ]
  },
  {
   "cell_type": "code",
   "execution_count": 4,
   "metadata": {},
   "outputs": [],
   "source": [
    "# 从模型中获得训练过的向量\n",
    "def getVecs(model, data, size):\n",
    "    vecs = [np.array(model[x.tags[0]]).reshape((1, size)) for x in data]\n",
    "    return np.concatenate(vecs)"
   ]
  },
  {
   "cell_type": "code",
   "execution_count": 5,
   "metadata": {},
   "outputs": [],
   "source": [
    "# 读数据\n",
    "train_data_df = pd.read_csv('train.csv')\n",
    "predict_data_df = pd.read_csv('test_data.csv')"
   ]
  },
  {
   "cell_type": "code",
   "execution_count": 6,
   "metadata": {},
   "outputs": [
    {
     "data": {
      "text/html": [
       "<div>\n",
       "<style scoped>\n",
       "    .dataframe tbody tr th:only-of-type {\n",
       "        vertical-align: middle;\n",
       "    }\n",
       "\n",
       "    .dataframe tbody tr th {\n",
       "        vertical-align: top;\n",
       "    }\n",
       "\n",
       "    .dataframe thead th {\n",
       "        text-align: right;\n",
       "    }\n",
       "</style>\n",
       "<table border=\"1\" class=\"dataframe\">\n",
       "  <thead>\n",
       "    <tr style=\"text-align: right;\">\n",
       "      <th></th>\n",
       "      <th>Unnamed: 0</th>\n",
       "      <th>review</th>\n",
       "      <th>sentiment</th>\n",
       "    </tr>\n",
       "  </thead>\n",
       "  <tbody>\n",
       "    <tr>\n",
       "      <th>0</th>\n",
       "      <td>15641</td>\n",
       "      <td>I have remembered this cartoon for over 50 yea...</td>\n",
       "      <td>positive</td>\n",
       "    </tr>\n",
       "    <tr>\n",
       "      <th>1</th>\n",
       "      <td>5969</td>\n",
       "      <td>Good Lord... How this ended up in our DVD play...</td>\n",
       "      <td>positive</td>\n",
       "    </tr>\n",
       "    <tr>\n",
       "      <th>2</th>\n",
       "      <td>38781</td>\n",
       "      <td>I've often wondered just how much CASPER was m...</td>\n",
       "      <td>positive</td>\n",
       "    </tr>\n",
       "    <tr>\n",
       "      <th>3</th>\n",
       "      <td>41290</td>\n",
       "      <td>First of all, I don't understand why some peop...</td>\n",
       "      <td>positive</td>\n",
       "    </tr>\n",
       "    <tr>\n",
       "      <th>4</th>\n",
       "      <td>43206</td>\n",
       "      <td>After 7 years of watching that dreadful nonsen...</td>\n",
       "      <td>positive</td>\n",
       "    </tr>\n",
       "    <tr>\n",
       "      <th>...</th>\n",
       "      <td>...</td>\n",
       "      <td>...</td>\n",
       "      <td>...</td>\n",
       "    </tr>\n",
       "    <tr>\n",
       "      <th>39995</th>\n",
       "      <td>13779</td>\n",
       "      <td>Add pure humor + quick and unique sentences + ...</td>\n",
       "      <td>positive</td>\n",
       "    </tr>\n",
       "    <tr>\n",
       "      <th>39996</th>\n",
       "      <td>29638</td>\n",
       "      <td>Despite strong performances by Minnie Driver a...</td>\n",
       "      <td>negative</td>\n",
       "    </tr>\n",
       "    <tr>\n",
       "      <th>39997</th>\n",
       "      <td>26231</td>\n",
       "      <td>Well, the big money machine has done it again!...</td>\n",
       "      <td>negative</td>\n",
       "    </tr>\n",
       "    <tr>\n",
       "      <th>39998</th>\n",
       "      <td>8250</td>\n",
       "      <td>This is an extremely-powerful based-on-a-true ...</td>\n",
       "      <td>positive</td>\n",
       "    </tr>\n",
       "    <tr>\n",
       "      <th>39999</th>\n",
       "      <td>43631</td>\n",
       "      <td>Totally un-funny \"jokes\" that fall flat, amate...</td>\n",
       "      <td>negative</td>\n",
       "    </tr>\n",
       "  </tbody>\n",
       "</table>\n",
       "<p>40000 rows × 3 columns</p>\n",
       "</div>"
      ],
      "text/plain": [
       "       Unnamed: 0                                             review sentiment\n",
       "0           15641  I have remembered this cartoon for over 50 yea...  positive\n",
       "1            5969  Good Lord... How this ended up in our DVD play...  positive\n",
       "2           38781  I've often wondered just how much CASPER was m...  positive\n",
       "3           41290  First of all, I don't understand why some peop...  positive\n",
       "4           43206  After 7 years of watching that dreadful nonsen...  positive\n",
       "...           ...                                                ...       ...\n",
       "39995       13779  Add pure humor + quick and unique sentences + ...  positive\n",
       "39996       29638  Despite strong performances by Minnie Driver a...  negative\n",
       "39997       26231  Well, the big money machine has done it again!...  negative\n",
       "39998        8250  This is an extremely-powerful based-on-a-true ...  positive\n",
       "39999       43631  Totally un-funny \"jokes\" that fall flat, amate...  negative\n",
       "\n",
       "[40000 rows x 3 columns]"
      ]
     },
     "execution_count": 6,
     "metadata": {},
     "output_type": "execute_result"
    }
   ],
   "source": [
    "# 我们先观察一下训练样本\n",
    "train_data_df"
   ]
  },
  {
   "cell_type": "code",
   "execution_count": 7,
   "metadata": {},
   "outputs": [],
   "source": [
    "# 好坏设成01\n",
    "train_data_df['result'] = train_data_df['sentiment'].apply(lambda x: 1 if x == 'negative' else 0)"
   ]
  },
  {
   "cell_type": "code",
   "execution_count": 8,
   "metadata": {},
   "outputs": [
    {
     "data": {
      "text/html": [
       "<div>\n",
       "<style scoped>\n",
       "    .dataframe tbody tr th:only-of-type {\n",
       "        vertical-align: middle;\n",
       "    }\n",
       "\n",
       "    .dataframe tbody tr th {\n",
       "        vertical-align: top;\n",
       "    }\n",
       "\n",
       "    .dataframe thead th {\n",
       "        text-align: right;\n",
       "    }\n",
       "</style>\n",
       "<table border=\"1\" class=\"dataframe\">\n",
       "  <thead>\n",
       "    <tr style=\"text-align: right;\">\n",
       "      <th>result</th>\n",
       "      <th>0</th>\n",
       "      <th>1</th>\n",
       "    </tr>\n",
       "  </thead>\n",
       "  <tbody>\n",
       "    <tr>\n",
       "      <th>review</th>\n",
       "      <td>20014</td>\n",
       "      <td>19986</td>\n",
       "    </tr>\n",
       "  </tbody>\n",
       "</table>\n",
       "</div>"
      ],
      "text/plain": [
       "result      0      1\n",
       "review  20014  19986"
      ]
     },
     "execution_count": 8,
     "metadata": {},
     "output_type": "execute_result"
    }
   ],
   "source": [
    "# 看一下好坏的占比，基本55，那就不用动了\n",
    "pd.DataFrame(pd.pivot_table(train_data_df, values= 'review',columns = ['result'],aggfunc='count'))"
   ]
  },
  {
   "cell_type": "code",
   "execution_count": 9,
   "metadata": {},
   "outputs": [],
   "source": [
    "# 分下样本\n",
    "x_train, x_test, y_train, y_test = train_test_split(train_data_df['review'], train_data_df['result'], test_size=0.3)"
   ]
  },
  {
   "cell_type": "code",
   "execution_count": 10,
   "metadata": {},
   "outputs": [],
   "source": [
    "x_train = data_clean(x_train)\n",
    "x_test = data_clean(x_test)\n",
    "predict_x = data_clean(predict_data_df['review'])"
   ]
  },
  {
   "cell_type": "code",
   "execution_count": 11,
   "metadata": {},
   "outputs": [],
   "source": [
    "# 把各个doc打个标签\n",
    "x_train = [TaggedDocument(doc, ['train' + str(i)]) for i, doc in enumerate(x_train)]\n",
    "x_test = [TaggedDocument(doc, ['test' + str(i)]) for i, doc in enumerate(x_test)]\n",
    "predict_x = [TaggedDocument(doc, ['predict' + str(i)]) for i, doc in enumerate(predict_x)]"
   ]
  },
  {
   "cell_type": "code",
   "execution_count": 12,
   "metadata": {},
   "outputs": [],
   "source": [
    "model_dm = Doc2Vec(window=10, vector_size=100, negative=5, dm=1, workers=5)\n",
    "model_dbow = Doc2Vec(window=10, vector_size=100, negative=5, dm=0, workers=5)"
   ]
  },
  {
   "cell_type": "code",
   "execution_count": 13,
   "metadata": {},
   "outputs": [],
   "source": [
    "# # 对所有评论创建词汇表\n",
    "vocab_list = []\n",
    "vocab_list.extend(x_train)\n",
    "vocab_list.extend(x_test)\n",
    "vocab_list.extend(predict_x)\n",
    "model_dm.build_vocab(vocab_list)\n",
    "model_dbow.build_vocab(vocab_list)\n"
   ]
  },
  {
   "cell_type": "code",
   "execution_count": 14,
   "metadata": {},
   "outputs": [],
   "source": [
    "# 获得训练集向量\n",
    "model_dm.train(x_train,total_examples=model_dm.corpus_count, epochs=model_dm.epochs)\n",
    "model_dbow.train(x_train,total_examples=model_dbow.corpus_count, epochs=model_dbow.epochs)\n",
    "\n",
    "train_vecs_dm = getVecs(model_dm, x_train, 100)\n",
    "train_vecs_dbow = getVecs(model_dbow, x_train, 100)\n",
    "train_vecs = np.hstack((train_vecs_dm, train_vecs_dbow))"
   ]
  },
  {
   "cell_type": "code",
   "execution_count": 15,
   "metadata": {},
   "outputs": [],
   "source": [
    "# 获得测试集向量\n",
    "\n",
    "model_dm.train(x_test,total_examples=model_dm.corpus_count, epochs=model_dm.epochs)\n",
    "model_dbow.train(x_test,total_examples=model_dbow.corpus_count, epochs=model_dbow.epochs)\n",
    "\n",
    "test_vecs_dm = getVecs(model_dm, x_test, 100)\n",
    "test_vecs_dbow = getVecs(model_dbow, x_test, 100)\n",
    "test_vecs = np.hstack((test_vecs_dm, test_vecs_dbow))"
   ]
  },
  {
   "cell_type": "code",
   "execution_count": 16,
   "metadata": {},
   "outputs": [],
   "source": [
    "# 获得预测集向量\n",
    "\n",
    "model_dm.train(predict_x,total_examples=model_dm.corpus_count, epochs=model_dm.epochs)\n",
    "model_dbow.train(predict_x,total_examples=model_dbow.corpus_count, epochs=model_dbow.epochs)\n",
    "\n",
    "predict_vecs_dm = getVecs(model_dm, predict_x, 100)\n",
    "predict_vecs_dbow = getVecs(model_dbow, predict_x, 100)\n",
    "predict_vecs = np.hstack((predict_vecs_dm, predict_vecs_dbow))\n"
   ]
  },
  {
   "cell_type": "code",
   "execution_count": 17,
   "metadata": {},
   "outputs": [
    {
     "name": "stdout",
     "output_type": "stream",
     "text": [
      "Test Accuracy: 0.81\n"
     ]
    },
    {
     "data": {
      "image/png": "[encoded data removed]",
      "text/plain": [
       "<Figure size 432x288 with 1 Axes>"
      ]
     },
     "metadata": {
      "needs_background": "light"
     },
     "output_type": "display_data"
    }
   ],
   "source": [
    "# 放入分类模型\n",
    "\n",
    "rf_model = RandomForestClassifier(max_depth=5, random_state=255)\n",
    "rf_model.fit(train_vecs, y_train)\n",
    "print('Test Accuracy: %.2f' % rf_model.score(test_vecs, y_test))\n",
    "pred_probas = rf_model.predict_proba(test_vecs)[:, 1]\n",
    "fpr, tpr, _ = roc_curve(y_test, pred_probas)\n",
    "roc_auc = auc(fpr, tpr)\n",
    "plt.plot(fpr, tpr, label='area = %.2f' % roc_auc)\n",
    "plt.plot([0, 1], [0, 1], 'k--')\n",
    "plt.xlim([0.0, 1.0])\n",
    "plt.ylim([0.0, 1.05])\n",
    "plt.legend(loc='lower right')\n",
    "plt.show()\n",
    "\n"
   ]
  },
  {
   "cell_type": "code",
   "execution_count": 18,
   "metadata": {},
   "outputs": [],
   "source": [
    "# 我们预测下预测集\n",
    "final_predict = rf_model.predict(predict_vecs)"
   ]
  },
  {
   "cell_type": "code",
   "execution_count": 19,
   "metadata": {},
   "outputs": [],
   "source": [
    "# 将数据存入dataframe\n",
    "predict_data_df['prediction'] = final_predict"
   ]
  },
  {
   "cell_type": "code",
   "execution_count": 20,
   "metadata": {},
   "outputs": [],
   "source": [
    "predict_data_df['prediction'] = predict_data_df['prediction'].apply(lambda x: 'positive' if x == 0 else 'negative')"
   ]
  },
  {
   "cell_type": "code",
   "execution_count": 21,
   "metadata": {},
   "outputs": [],
   "source": [
    "# 将数据存入excel\n",
    "predict_data_df.to_csv('result.csv')"
   ]
  },
  {
   "cell_type": "code",
   "execution_count": null,
   "metadata": {},
   "outputs": [],
   "source": []
  }
 ],
 "metadata": {
  "kernelspec": {
   "display_name": "Python 3",
   "language": "python",
   "name": "python3"
  },
  "language_info": {
   "codemirror_mode": {
    "name": "ipython",
    "version": 3
   },
   "file_extension": ".py",
   "mimetype": "text/x-python",
   "name": "python",
   "nbconvert_exporter": "python",
   "pygments_lexer": "ipython3",
   "version": "3.7.5"
  }
 },
 "nbformat": 4,
 "nbformat_minor": 4
}
